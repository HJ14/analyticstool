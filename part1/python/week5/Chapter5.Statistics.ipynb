{
 "cells": [
  {
   "cell_type": "markdown",
   "metadata": {},
   "source": [
    "## Chapter 5. Statistics\n",
    "\n",
    "- Facts are stubborn, but statistics are more pliable.\n",
    "\n",
    "#### Describing a Single Set of Data\n",
    "\n"
   ]
  },
  {
   "cell_type": "code",
   "execution_count": 18,
   "metadata": {
    "collapsed": false
   },
   "outputs": [],
   "source": [
    "num_friends = [100,49,41,40,25,21,21,19,19,18,18,16,15,15,15,15,14,14,13,13,13,13,12,12,11,10,10,10,10,10,10,10,10,10,10,10,10,10,10,10,9,9,9,9,9,9,9,9,9,9,9,9,9,9,9,9,9,9,8,8,8,8,8,8,8,8,8,8,8,8,8,7,7,7,7,7,7,7,7,7,7,7,7,7,7,7,6,6,6,6,6,6,6,6,6,6,6,6,6,6,6,6,6,6,6,6,6,6,5,5,5,5,5,5,5,5,5,5,5,5,5,5,5,5,5,4,4,4,4,4,4,4,4,4,4,4,4,4,4,4,4,4,4,4,4,3,3,3,3,3,3,3,3,3,3,3,3,3,3,3,3,3,3,3,3,2,2,2,2,2,2,2,2,2,2,2,2,2,2,2,2,2,1,1,1,1,1,1,1,1,1,1,1,1,1,1,1,1,1,1,1,1,1,1]"
   ]
  },
  {
   "cell_type": "code",
   "execution_count": 3,
   "metadata": {
    "collapsed": true
   },
   "outputs": [],
   "source": [
    "from matplotlib import pyplot as plt"
   ]
  },
  {
   "cell_type": "code",
   "execution_count": 17,
   "metadata": {
    "collapsed": false
   },
   "outputs": [],
   "source": [
    "%matplotlib inline\n",
    "from __future__ import division\n",
    "from collections import Counter\n",
    "import math         "
   ]
  },
  {
   "cell_type": "code",
   "execution_count": 19,
   "metadata": {
    "collapsed": false
   },
   "outputs": [],
   "source": [
    "friend_counts = Counter(num_friends)"
   ]
  },
  {
   "cell_type": "code",
   "execution_count": 20,
   "metadata": {
    "collapsed": false
   },
   "outputs": [
    {
     "data": {
      "text/plain": [
       "Counter({1: 22,\n",
       "         2: 17,\n",
       "         3: 20,\n",
       "         4: 20,\n",
       "         5: 17,\n",
       "         6: 22,\n",
       "         7: 15,\n",
       "         8: 13,\n",
       "         9: 18,\n",
       "         10: 15,\n",
       "         11: 1,\n",
       "         12: 2,\n",
       "         13: 4,\n",
       "         14: 2,\n",
       "         15: 4,\n",
       "         16: 1,\n",
       "         18: 2,\n",
       "         19: 2,\n",
       "         21: 2,\n",
       "         25: 1,\n",
       "         40: 1,\n",
       "         41: 1,\n",
       "         49: 1,\n",
       "         100: 1})"
      ]
     },
     "execution_count": 20,
     "metadata": {},
     "output_type": "execute_result"
    }
   ],
   "source": [
    "friend_counts"
   ]
  },
  {
   "cell_type": "code",
   "execution_count": 21,
   "metadata": {
    "collapsed": true
   },
   "outputs": [],
   "source": [
    "xs = range(101)\n",
    "ys = [friend_counts[x] for x in xs]"
   ]
  },
  {
   "cell_type": "code",
   "execution_count": 13,
   "metadata": {
    "collapsed": false
   },
   "outputs": [
    {
     "data": {
      "text/plain": [
       "range(0, 101)"
      ]
     },
     "execution_count": 13,
     "metadata": {},
     "output_type": "execute_result"
    }
   ],
   "source": [
    "xs"
   ]
  },
  {
   "cell_type": "code",
   "execution_count": 22,
   "metadata": {
    "collapsed": false
   },
   "outputs": [
    {
     "data": {
      "image/png": "[encoded data removed]",
      "text/plain": [
       "<matplotlib.figure.Figure at 0x105b8d208>"
      ]
     },
     "metadata": {},
     "output_type": "display_data"
    }
   ],
   "source": [
    "plt.bar(xs, ys)\n",
    "plt.axis([0, 101, 0, 25])\n",
    "plt.title(\"Histogram of Friend Counts\")\n",
    "plt.xlabel(\"# of friends\")\n",
    "plt.ylabel(\"# of people\")\n",
    "plt.show()"
   ]
  },
  {
   "cell_type": "code",
   "execution_count": 24,
   "metadata": {
    "collapsed": true
   },
   "outputs": [],
   "source": [
    "num_points = len(num_friends)"
   ]
  },
  {
   "cell_type": "code",
   "execution_count": 26,
   "metadata": {
    "collapsed": true
   },
   "outputs": [],
   "source": [
    "largest_value = max(num_friends)            # 100\n",
    "smallest_value = min(num_friends)           # 1"
   ]
  },
  {
   "cell_type": "code",
   "execution_count": 28,
   "metadata": {
    "collapsed": false
   },
   "outputs": [
    {
     "data": {
      "text/plain": [
       "100"
      ]
     },
     "execution_count": 28,
     "metadata": {},
     "output_type": "execute_result"
    }
   ],
   "source": [
    "largest_value"
   ]
  },
  {
   "cell_type": "code",
   "execution_count": 29,
   "metadata": {
    "collapsed": false
   },
   "outputs": [
    {
     "data": {
      "text/plain": [
       "1"
      ]
     },
     "execution_count": 29,
     "metadata": {},
     "output_type": "execute_result"
    }
   ],
   "source": [
    "smallest_value"
   ]
  },
  {
   "cell_type": "code",
   "execution_count": 31,
   "metadata": {
    "collapsed": true
   },
   "outputs": [],
   "source": [
    "sorted_values = sorted(num_friends)"
   ]
  },
  {
   "cell_type": "code",
   "execution_count": 33,
   "metadata": {
    "collapsed": false
   },
   "outputs": [],
   "source": [
    "smallest_value = sorted_values[0]\n",
    "second_smallest_value = sorted_values[1]\n",
    "second_largest_value = sorted_values[-2]"
   ]
  },
  {
   "cell_type": "markdown",
   "metadata": {},
   "source": [
    "### Central Tendencies"
   ]
  },
  {
   "cell_type": "code",
   "execution_count": 34,
   "metadata": {
    "collapsed": true
   },
   "outputs": [],
   "source": [
    "def mean(x):\n",
    "       return sum(x) / len(x)"
   ]
  },
  {
   "cell_type": "code",
   "execution_count": 36,
   "metadata": {
    "collapsed": false
   },
   "outputs": [
    {
     "data": {
      "text/plain": [
       "7.333333333333333"
      ]
     },
     "execution_count": 36,
     "metadata": {},
     "output_type": "execute_result"
    }
   ],
   "source": [
    "mean(num_friends)"
   ]
  },
  {
   "cell_type": "markdown",
   "metadata": {},
   "source": [
    "- We’ll also sometimes be interested in the median, which is the middle-most value (if the number of data points is odd) or the average of the two middle-most values (if the number of data points is even).\n",
    "\n",
    "- Notice that — unlike the mean — the median doesn’t depend on every value in your data. For example, if you make the largest point larger (or the smallest point smaller), the middle points remain unchanged, which means so does the median.\n"
   ]
  },
  {
   "cell_type": "code",
   "execution_count": 37,
   "metadata": {
    "collapsed": true
   },
   "outputs": [],
   "source": [
    "def median(v):\n",
    "    n = len(v)\n",
    "    sorted_v = sorted(v)\n",
    "    midpoint = n // 2\n",
    "    if n % 2 == 1:\n",
    "        return sorted_v[midpoint]\n",
    "    else:\n",
    "        lo = midpoint - 1\n",
    "        hi = midpoint\n",
    "        return (sorted_v[lo] + sorted_v[hi]) / 2"
   ]
  },
  {
   "cell_type": "code",
   "execution_count": 38,
   "metadata": {
    "collapsed": false
   },
   "outputs": [
    {
     "data": {
      "text/plain": [
       "6.0"
      ]
     },
     "execution_count": 38,
     "metadata": {},
     "output_type": "execute_result"
    }
   ],
   "source": [
    "median(num_friends) "
   ]
  },
  {
   "cell_type": "markdown",
   "metadata": {},
   "source": [
    "- At the same time, the mean is very sensitive to outliers in our data. If our friendliest user had 200 friends (instead of 100), then the mean would rise to 7.82, while the median would stay the same. If outliers are likely to be bad data (or otherwise unrepresentative of whatever phenomenon we’re trying to understand), then the mean can sometimes give us a misleading picture. \n",
    "\n",
    "- For example, the story is often told that in the mid-1980s, the major at the University of North Carolina with the highest average starting salary was geography, mostly on account of NBA star (and outlier) Michael Jordan.\n",
    "\n",
    "- A generalization of the median is the quantile, which represents the value less than which a certain percentile of the data lies. (The median represents the value less than which 50% of the data lies.)"
   ]
  },
  {
   "cell_type": "code",
   "execution_count": 39,
   "metadata": {
    "collapsed": true
   },
   "outputs": [],
   "source": [
    "def quantile(x, p):\n",
    "    p_index = int(p * len(x))\n",
    "    return sorted(x)[p_index]"
   ]
  },
  {
   "cell_type": "code",
   "execution_count": 41,
   "metadata": {
    "collapsed": false
   },
   "outputs": [
    {
     "data": {
      "text/plain": [
       "1"
      ]
     },
     "execution_count": 41,
     "metadata": {},
     "output_type": "execute_result"
    }
   ],
   "source": [
    "quantile(num_friends, 0.10) # 1"
   ]
  },
  {
   "cell_type": "code",
   "execution_count": 42,
   "metadata": {
    "collapsed": false
   },
   "outputs": [
    {
     "data": {
      "text/plain": [
       "3"
      ]
     },
     "execution_count": 42,
     "metadata": {},
     "output_type": "execute_result"
    }
   ],
   "source": [
    "quantile(num_friends, 0.25) # 3"
   ]
  },
  {
   "cell_type": "code",
   "execution_count": 43,
   "metadata": {
    "collapsed": false
   },
   "outputs": [
    {
     "data": {
      "text/plain": [
       "9"
      ]
     },
     "execution_count": 43,
     "metadata": {},
     "output_type": "execute_result"
    }
   ],
   "source": [
    "quantile(num_friends, 0.75) # 9"
   ]
  },
  {
   "cell_type": "code",
   "execution_count": 45,
   "metadata": {
    "collapsed": true
   },
   "outputs": [],
   "source": [
    "max_count = max(friend_counts.values())"
   ]
  },
  {
   "cell_type": "code",
   "execution_count": 52,
   "metadata": {
    "collapsed": false
   },
   "outputs": [
    {
     "data": {
      "text/plain": [
       "22"
      ]
     },
     "execution_count": 52,
     "metadata": {},
     "output_type": "execute_result"
    }
   ],
   "source": [
    "max_count"
   ]
  },
  {
   "cell_type": "code",
   "execution_count": 62,
   "metadata": {
    "collapsed": false
   },
   "outputs": [
    {
     "data": {
      "text/plain": [
       "dict_items([(1, 22), (2, 17), (3, 20), (4, 20), (5, 17), (6, 22), (7, 15), (8, 13), (9, 18), (10, 15), (11, 1), (12, 2), (13, 4), (14, 2), (15, 4), (16, 1), (18, 2), (19, 2), (21, 2), (25, 1), (100, 1), (40, 1), (41, 1), (49, 1)])"
      ]
     },
     "execution_count": 62,
     "metadata": {},
     "output_type": "execute_result"
    }
   ],
   "source": [
    "friend_counts.items()"
   ]
  },
  {
   "cell_type": "code",
   "execution_count": 51,
   "metadata": {
    "collapsed": true
   },
   "outputs": [],
   "source": [
    "def mode(x):\n",
    "    counts = Counter(x)\n",
    "    max_count = max(counts.values())\n",
    "    return [x_i for x_i, count in counts.items()\n",
    "            if count == max_count]"
   ]
  },
  {
   "cell_type": "code",
   "execution_count": 56,
   "metadata": {
    "collapsed": false
   },
   "outputs": [
    {
     "data": {
      "text/plain": [
       "[1, 6]"
      ]
     },
     "execution_count": 56,
     "metadata": {},
     "output_type": "execute_result"
    }
   ],
   "source": [
    "mode(num_friends) "
   ]
  },
  {
   "cell_type": "code",
   "execution_count": 63,
   "metadata": {
    "collapsed": true
   },
   "outputs": [],
   "source": [
    "def data_range(x):\n",
    "       return max(x) - min(x)"
   ]
  },
  {
   "cell_type": "code",
   "execution_count": 65,
   "metadata": {
    "collapsed": false
   },
   "outputs": [
    {
     "data": {
      "text/plain": [
       "99"
      ]
     },
     "execution_count": 65,
     "metadata": {},
     "output_type": "execute_result"
    }
   ],
   "source": [
    "data_range(num_friends)"
   ]
  },
  {
   "cell_type": "code",
   "execution_count": 91,
   "metadata": {
    "collapsed": true
   },
   "outputs": [],
   "source": [
    "#measure of variability\n",
    "def de_mean(x):\n",
    "    x_bar = mean(x)\n",
    "    return [x_i - x_bar for x_i in x]"
   ]
  },
  {
   "cell_type": "code",
   "execution_count": 68,
   "metadata": {
    "collapsed": true
   },
   "outputs": [],
   "source": [
    "def variance(x):\n",
    "    n = len(x)\n",
    "    deviations = de_mean(x)\n",
    "    return sum_of_squares(deviations) / (n - 1)"
   ]
  },
  {
   "cell_type": "code",
   "execution_count": 69,
   "metadata": {
    "collapsed": false
   },
   "outputs": [
    {
     "data": {
      "text/plain": [
       "[92.66666666666667,\n",
       " 41.666666666666664,\n",
       " 33.666666666666664,\n",
       " 32.666666666666664,\n",
       " 17.666666666666668,\n",
       " 13.666666666666668,\n",
       " 13.666666666666668,\n",
       " 11.666666666666668,\n",
       " 11.666666666666668,\n",
       " 10.666666666666668,\n",
       " 10.666666666666668,\n",
       " 8.666666666666668,\n",
       " 7.666666666666667,\n",
       " 7.666666666666667,\n",
       " 7.666666666666667,\n",
       " 7.666666666666667,\n",
       " 6.666666666666667,\n",
       " 6.666666666666667,\n",
       " 5.666666666666667,\n",
       " 5.666666666666667,\n",
       " 5.666666666666667,\n",
       " 5.666666666666667,\n",
       " 4.666666666666667,\n",
       " 4.666666666666667,\n",
       " 3.666666666666667,\n",
       " 2.666666666666667,\n",
       " 2.666666666666667,\n",
       " 2.666666666666667,\n",
       " 2.666666666666667,\n",
       " 2.666666666666667,\n",
       " 2.666666666666667,\n",
       " 2.666666666666667,\n",
       " 2.666666666666667,\n",
       " 2.666666666666667,\n",
       " 2.666666666666667,\n",
       " 2.666666666666667,\n",
       " 2.666666666666667,\n",
       " 2.666666666666667,\n",
       " 2.666666666666667,\n",
       " 2.666666666666667,\n",
       " 1.666666666666667,\n",
       " 1.666666666666667,\n",
       " 1.666666666666667,\n",
       " 1.666666666666667,\n",
       " 1.666666666666667,\n",
       " 1.666666666666667,\n",
       " 1.666666666666667,\n",
       " 1.666666666666667,\n",
       " 1.666666666666667,\n",
       " 1.666666666666667,\n",
       " 1.666666666666667,\n",
       " 1.666666666666667,\n",
       " 1.666666666666667,\n",
       " 1.666666666666667,\n",
       " 1.666666666666667,\n",
       " 1.666666666666667,\n",
       " 1.666666666666667,\n",
       " 1.666666666666667,\n",
       " 0.666666666666667,\n",
       " 0.666666666666667,\n",
       " 0.666666666666667,\n",
       " 0.666666666666667,\n",
       " 0.666666666666667,\n",
       " 0.666666666666667,\n",
       " 0.666666666666667,\n",
       " 0.666666666666667,\n",
       " 0.666666666666667,\n",
       " 0.666666666666667,\n",
       " 0.666666666666667,\n",
       " 0.666666666666667,\n",
       " 0.666666666666667,\n",
       " -0.33333333333333304,\n",
       " -0.33333333333333304,\n",
       " -0.33333333333333304,\n",
       " -0.33333333333333304,\n",
       " -0.33333333333333304,\n",
       " -0.33333333333333304,\n",
       " -0.33333333333333304,\n",
       " -0.33333333333333304,\n",
       " -0.33333333333333304,\n",
       " -0.33333333333333304,\n",
       " -0.33333333333333304,\n",
       " -0.33333333333333304,\n",
       " -0.33333333333333304,\n",
       " -0.33333333333333304,\n",
       " -0.33333333333333304,\n",
       " -1.333333333333333,\n",
       " -1.333333333333333,\n",
       " -1.333333333333333,\n",
       " -1.333333333333333,\n",
       " -1.333333333333333,\n",
       " -1.333333333333333,\n",
       " -1.333333333333333,\n",
       " -1.333333333333333,\n",
       " -1.333333333333333,\n",
       " -1.333333333333333,\n",
       " -1.333333333333333,\n",
       " -1.333333333333333,\n",
       " -1.333333333333333,\n",
       " -1.333333333333333,\n",
       " -1.333333333333333,\n",
       " -1.333333333333333,\n",
       " -1.333333333333333,\n",
       " -1.333333333333333,\n",
       " -1.333333333333333,\n",
       " -1.333333333333333,\n",
       " -1.333333333333333,\n",
       " -1.333333333333333,\n",
       " -2.333333333333333,\n",
       " -2.333333333333333,\n",
       " -2.333333333333333,\n",
       " -2.333333333333333,\n",
       " -2.333333333333333,\n",
       " -2.333333333333333,\n",
       " -2.333333333333333,\n",
       " -2.333333333333333,\n",
       " -2.333333333333333,\n",
       " -2.333333333333333,\n",
       " -2.333333333333333,\n",
       " -2.333333333333333,\n",
       " -2.333333333333333,\n",
       " -2.333333333333333,\n",
       " -2.333333333333333,\n",
       " -2.333333333333333,\n",
       " -2.333333333333333,\n",
       " -3.333333333333333,\n",
       " -3.333333333333333,\n",
       " -3.333333333333333,\n",
       " -3.333333333333333,\n",
       " -3.333333333333333,\n",
       " -3.333333333333333,\n",
       " -3.333333333333333,\n",
       " -3.333333333333333,\n",
       " -3.333333333333333,\n",
       " -3.333333333333333,\n",
       " -3.333333333333333,\n",
       " -3.333333333333333,\n",
       " -3.333333333333333,\n",
       " -3.333333333333333,\n",
       " -3.333333333333333,\n",
       " -3.333333333333333,\n",
       " -3.333333333333333,\n",
       " -3.333333333333333,\n",
       " -3.333333333333333,\n",
       " -3.333333333333333,\n",
       " -4.333333333333333,\n",
       " -4.333333333333333,\n",
       " -4.333333333333333,\n",
       " -4.333333333333333,\n",
       " -4.333333333333333,\n",
       " -4.333333333333333,\n",
       " -4.333333333333333,\n",
       " -4.333333333333333,\n",
       " -4.333333333333333,\n",
       " -4.333333333333333,\n",
       " -4.333333333333333,\n",
       " -4.333333333333333,\n",
       " -4.333333333333333,\n",
       " -4.333333333333333,\n",
       " -4.333333333333333,\n",
       " -4.333333333333333,\n",
       " -4.333333333333333,\n",
       " -4.333333333333333,\n",
       " -4.333333333333333,\n",
       " -4.333333333333333,\n",
       " -5.333333333333333,\n",
       " -5.333333333333333,\n",
       " -5.333333333333333,\n",
       " -5.333333333333333,\n",
       " -5.333333333333333,\n",
       " -5.333333333333333,\n",
       " -5.333333333333333,\n",
       " -5.333333333333333,\n",
       " -5.333333333333333,\n",
       " -5.333333333333333,\n",
       " -5.333333333333333,\n",
       " -5.333333333333333,\n",
       " -5.333333333333333,\n",
       " -5.333333333333333,\n",
       " -5.333333333333333,\n",
       " -5.333333333333333,\n",
       " -5.333333333333333,\n",
       " -6.333333333333333,\n",
       " -6.333333333333333,\n",
       " -6.333333333333333,\n",
       " -6.333333333333333,\n",
       " -6.333333333333333,\n",
       " -6.333333333333333,\n",
       " -6.333333333333333,\n",
       " -6.333333333333333,\n",
       " -6.333333333333333,\n",
       " -6.333333333333333,\n",
       " -6.333333333333333,\n",
       " -6.333333333333333,\n",
       " -6.333333333333333,\n",
       " -6.333333333333333,\n",
       " -6.333333333333333,\n",
       " -6.333333333333333,\n",
       " -6.333333333333333,\n",
       " -6.333333333333333,\n",
       " -6.333333333333333,\n",
       " -6.333333333333333,\n",
       " -6.333333333333333,\n",
       " -6.333333333333333]"
      ]
     },
     "execution_count": 69,
     "metadata": {},
     "output_type": "execute_result"
    }
   ],
   "source": [
    "de_mean(num_friends)"
   ]
  },
  {
   "cell_type": "code",
   "execution_count": 79,
   "metadata": {
    "collapsed": false
   },
   "outputs": [
    {
     "data": {
      "text/plain": [
       "'/Users/syleeie/analyticstool/part1/python/week5'"
      ]
     },
     "execution_count": 79,
     "metadata": {},
     "output_type": "execute_result"
    }
   ],
   "source": [
    "import os\n",
    "os.getcwd()"
   ]
  },
  {
   "cell_type": "code",
   "execution_count": 81,
   "metadata": {
    "collapsed": true
   },
   "outputs": [],
   "source": [
    "import linear_algebra"
   ]
  },
  {
   "cell_type": "code",
   "execution_count": 82,
   "metadata": {
    "collapsed": false
   },
   "outputs": [],
   "source": [
    "from linear_algebra import sum_of_squares, dot"
   ]
  },
  {
   "cell_type": "code",
   "execution_count": 84,
   "metadata": {
    "collapsed": false
   },
   "outputs": [
    {
     "data": {
      "text/plain": [
       "81.54351395730716"
      ]
     },
     "execution_count": 84,
     "metadata": {},
     "output_type": "execute_result"
    }
   ],
   "source": [
    "variance(num_friends) "
   ]
  },
  {
   "cell_type": "code",
   "execution_count": 85,
   "metadata": {
    "collapsed": true
   },
   "outputs": [],
   "source": [
    "import sys\n",
    "sys.path.append(\"/Users/syleeie/analyticstool/part1/python/code-python3\")"
   ]
  },
  {
   "cell_type": "code",
   "execution_count": 86,
   "metadata": {
    "collapsed": false
   },
   "outputs": [
    {
     "name": "stdout",
     "output_type": "stream",
     "text": [
      "['', '/Users/syleeie/anaconda/lib/python3.5/site-packages/PyBrain-0.3.3-py3.5.egg', '/Users/syleeie/anaconda/lib/python35.zip', '/Users/syleeie/anaconda/lib/python3.5', '/Users/syleeie/anaconda/lib/python3.5/plat-darwin', '/Users/syleeie/anaconda/lib/python3.5/lib-dynload', '/Users/syleeie/anaconda/lib/python3.5/site-packages/Sphinx-1.3.1-py3.5.egg', '/Users/syleeie/anaconda/lib/python3.5/site-packages/pyramid-1.5.7-py3.5.egg', '/Users/syleeie/anaconda/lib/python3.5/site-packages/setuptools-19.1.1-py3.5.egg', '/Users/syleeie/anaconda/lib/python3.5/site-packages', '/Users/syleeie/anaconda/lib/python3.5/site-packages/aeosa', '/Users/syleeie/anaconda/lib/python3.5/site-packages/IPython/extensions', '/Users/syleeie/.ipython', '/Users/syleeie/analyticstool/part1/python/code-python3']\n"
     ]
    }
   ],
   "source": [
    "print(sys.path)"
   ]
  },
  {
   "cell_type": "code",
   "execution_count": 88,
   "metadata": {
    "collapsed": false
   },
   "outputs": [],
   "source": [
    "http://math7.tistory.com/17"
   ]
  },
  {
   "cell_type": "markdown",
   "metadata": {},
   "source": [
    "- 표분분산 자유도 n이 아니고 n-1인 이유\n",
    "http://math7.tistory.com/17\n",
    "<img src=\"http://cfile30.uf.tistory.com/image/2107C3445404381D1A5DAC\">"
   ]
  },
  {
   "cell_type": "code",
   "execution_count": 89,
   "metadata": {
    "collapsed": true
   },
   "outputs": [],
   "source": [
    "def interquartile_range(x):\n",
    "    return quantile(x, 0.75) - quantile(x, 0.25)"
   ]
  },
  {
   "cell_type": "code",
   "execution_count": 90,
   "metadata": {
    "collapsed": false
   },
   "outputs": [
    {
     "data": {
      "text/plain": [
       "6"
      ]
     },
     "execution_count": 90,
     "metadata": {},
     "output_type": "execute_result"
    }
   ],
   "source": [
    "interquartile_range(num_friends)"
   ]
  },
  {
   "cell_type": "markdown",
   "metadata": {},
   "source": [
    "IQR (inter-quartile Range) ; 사분위수 범위\n",
    "⇒ IQR = Q3 - Q1 \n",
    "\n",
    "Normalised IQR  ; 표준사분위수 범위 \n",
    "⇒ Normalised IQR = IQR × 0.7413\n",
    "\n",
    "Robust CV(로버스트 변동계수)\n",
    "⇒ Robust CV = Normalised IQR ／중위수\n",
    "\n",
    "Q1. 로버스트 변동계수를 구해보세요. 함수로 정의할수 있으면 더 좋구요"
   ]
  },
  {
   "cell_type": "markdown",
   "metadata": {},
   "source": [
    "### Correlation\n",
    "- DataSciencester’s VP of Growth has a theory that the amount of time people spend on the site is related to the number of friends they have on the site.\n"
   ]
  },
  {
   "cell_type": "code",
   "execution_count": 92,
   "metadata": {
    "collapsed": true
   },
   "outputs": [],
   "source": [
    "def covariance(x, y):\n",
    "    n = len(x)\n",
    "    return dot(de_mean(x), de_mean(y)) / (n - 1)"
   ]
  },
  {
   "cell_type": "code",
   "execution_count": 94,
   "metadata": {
    "collapsed": true
   },
   "outputs": [],
   "source": [
    "daily_minutes = [1,68.77,51.25,52.08,38.36,44.54,57.13,51.4,41.42,31.22,34.76,54.01,38.79,47.59,49.1,27.66,41.03,36.73,48.65,28.12,46.62,35.57,32.98,35,26.07,23.77,39.73,40.57,31.65,31.21,36.32,20.45,21.93,26.02,27.34,23.49,46.94,30.5,33.8,24.23,21.4,27.94,32.24,40.57,25.07,19.42,22.39,18.42,46.96,23.72,26.41,26.97,36.76,40.32,35.02,29.47,30.2,31,38.11,38.18,36.31,21.03,30.86,36.07,28.66,29.08,37.28,15.28,24.17,22.31,30.17,25.53,19.85,35.37,44.6,17.23,13.47,26.33,35.02,32.09,24.81,19.33,28.77,24.26,31.98,25.73,24.86,16.28,34.51,15.23,39.72,40.8,26.06,35.76,34.76,16.13,44.04,18.03,19.65,32.62,35.59,39.43,14.18,35.24,40.13,41.82,35.45,36.07,43.67,24.61,20.9,21.9,18.79,27.61,27.21,26.61,29.77,20.59,27.53,13.82,33.2,25,33.1,36.65,18.63,14.87,22.2,36.81,25.53,24.62,26.25,18.21,28.08,19.42,29.79,32.8,35.99,28.32,27.79,35.88,29.06,36.28,14.1,36.63,37.49,26.9,18.58,38.48,24.48,18.95,33.55,14.24,29.04,32.51,25.63,22.22,19,32.73,15.16,13.9,27.2,32.01,29.27,33,13.74,20.42,27.32,18.23,35.35,28.48,9.08,24.62,20.12,35.26,19.92,31.02,16.49,12.16,30.7,31.22,34.65,13.13,27.51,33.2,31.57,14.1,33.42,17.44,10.12,24.42,9.82,23.39,30.93,15.03,21.67,31.09,33.29,22.61,26.89,23.48,8.38,27.81,32.35,23.84]"
   ]
  },
  {
   "cell_type": "code",
   "execution_count": 95,
   "metadata": {
    "collapsed": false
   },
   "outputs": [
    {
     "data": {
      "text/plain": [
       "22.425435139573064"
      ]
     },
     "execution_count": 95,
     "metadata": {},
     "output_type": "execute_result"
    }
   ],
   "source": [
    "covariance(num_friends, daily_minutes)"
   ]
  },
  {
   "cell_type": "markdown",
   "metadata": {},
   "source": [
    "- Recall that dot sums up the products of corresponding pairs of elements. When corresponding elements of x and y are either both above their means or both below their means, a positive number enters the sum. When one is above its mean and the other below, a negative number enters the sum. Accordingly, a “large” positive covariance means that x tends to be large when y is large and small when y is small. A “large” negative covariance means the opposite — that x tends to be small when y is large and vice versa. A covariance close to zero means that no such relationship exists.\n",
    "\n",
    "- Nonetheless, this number can be hard to interpret, for a couple of reasons:\n",
    "    1. Its units are the product of the inputs’ units (e.g., friend-minutes-per-day), which can be hard to make sense of. (What’s a “friend-minute-per-day”?)\n",
    "    2. If each user had twice as many friends (but the same number of minutes), the covariance would be twice as large. But in a sense the variables would be just as interrelated. Said differently, it’s hard to say what counts as a “large” covariance.\n"
   ]
  },
  {
   "cell_type": "code",
   "execution_count": null,
   "metadata": {
    "collapsed": true
   },
   "outputs": [],
   "source": []
  },
  {
   "cell_type": "code",
   "execution_count": 96,
   "metadata": {
    "collapsed": true
   },
   "outputs": [],
   "source": [
    "def correlation(x, y):\n",
    "    stdev_x = standard_deviation(x)\n",
    "    stdev_y = standard_deviation(y)\n",
    "    if stdev_x > 0 and stdev_y > 0:\n",
    "        return covariance(x, y) / stdev_x / stdev_y\n",
    "    else:\n",
    "        return 0"
   ]
  },
  {
   "cell_type": "code",
   "execution_count": 98,
   "metadata": {
    "collapsed": true
   },
   "outputs": [],
   "source": [
    "import math"
   ]
  },
  {
   "cell_type": "code",
   "execution_count": 100,
   "metadata": {
    "collapsed": true
   },
   "outputs": [],
   "source": [
    "def standard_deviation(x):\n",
    "    return math.sqrt(variance(x))"
   ]
  },
  {
   "cell_type": "code",
   "execution_count": 101,
   "metadata": {
    "collapsed": false
   },
   "outputs": [
    {
     "data": {
      "text/plain": [
       "0.24736957366478218"
      ]
     },
     "execution_count": 101,
     "metadata": {},
     "output_type": "execute_result"
    }
   ],
   "source": [
    "correlation(num_friends, daily_minutes) "
   ]
  },
  {
   "cell_type": "code",
   "execution_count": 108,
   "metadata": {
    "collapsed": false
   },
   "outputs": [
    {
     "data": {
      "image/png": "[encoded data removed]",
      "text/plain": [
       "<matplotlib.figure.Figure at 0x1087a0828>"
      ]
     },
     "metadata": {},
     "output_type": "display_data"
    }
   ],
   "source": [
    "plt.scatter(num_friends, daily_minutes)\n",
    "plt.axis([0, 100, 0, 80])\n",
    "plt.title(\"Scatter plot\")\n",
    "plt.xlabel(\"# num of friends\")\n",
    "plt.ylabel(\"# daily_minutes\")\n",
    "plt.show()"
   ]
  },
  {
   "cell_type": "code",
   "execution_count": 102,
   "metadata": {
    "collapsed": true
   },
   "outputs": [],
   "source": [
    "outlier = num_friends.index(100)    # index of outlier"
   ]
  },
  {
   "cell_type": "code",
   "execution_count": 103,
   "metadata": {
    "collapsed": true
   },
   "outputs": [],
   "source": [
    "num_friends_good = [x\n",
    "                       for i, x in enumerate(num_friends)\n",
    "                       if i != outlier]"
   ]
  },
  {
   "cell_type": "code",
   "execution_count": 105,
   "metadata": {
    "collapsed": true
   },
   "outputs": [],
   "source": [
    "daily_minutes_good = [x\n",
    "                         for i, x in enumerate(daily_minutes)\n",
    "                         if i != outlier]"
   ]
  },
  {
   "cell_type": "code",
   "execution_count": 106,
   "metadata": {
    "collapsed": false
   },
   "outputs": [
    {
     "data": {
      "text/plain": [
       "0.5736792115665573"
      ]
     },
     "execution_count": 106,
     "metadata": {},
     "output_type": "execute_result"
    }
   ],
   "source": [
    "correlation(num_friends_good, daily_minutes_good) # 0.57"
   ]
  },
  {
   "cell_type": "code",
   "execution_count": 110,
   "metadata": {
    "collapsed": false
   },
   "outputs": [
    {
     "data": {
      "image/png": "[encoded data removed]",
      "text/plain": [
       "<matplotlib.figure.Figure at 0x108a68518>"
      ]
     },
     "metadata": {},
     "output_type": "display_data"
    }
   ],
   "source": [
    "plt.scatter(num_friends_good, daily_minutes_good)\n",
    "plt.axis([0, 60, 0, 80])\n",
    "plt.title(\"Scatter plot\")\n",
    "plt.xlabel(\"# num of friends\")\n",
    "plt.ylabel(\"# daily_minutes\")\n",
    "plt.show()"
   ]
  },
  {
   "cell_type": "markdown",
   "metadata": {},
   "source": [
    "### Simpson’s Paradox\n",
    "\n",
    "- 책 참고.\n",
    "\n",
    "### Some Other Correlational Caveats\n"
   ]
  },
  {
   "cell_type": "code",
   "execution_count": 113,
   "metadata": {
    "collapsed": false
   },
   "outputs": [],
   "source": [
    "x = [-2, -1, 0, 1, 2]\n",
    "y = [2, 1, 0, 1, 2]"
   ]
  },
  {
   "cell_type": "code",
   "execution_count": 114,
   "metadata": {
    "collapsed": false
   },
   "outputs": [
    {
     "data": {
      "text/plain": [
       "0.0"
      ]
     },
     "execution_count": 114,
     "metadata": {},
     "output_type": "execute_result"
    }
   ],
   "source": [
    "correlation(x,y)"
   ]
  },
  {
   "cell_type": "code",
   "execution_count": 115,
   "metadata": {
    "collapsed": true
   },
   "outputs": [],
   "source": [
    "x = [-2, 1, 0, 1, 2]\n",
    "y = [99.98, 99.99, 100, 100.01, 100.02]"
   ]
  },
  {
   "cell_type": "code",
   "execution_count": 117,
   "metadata": {
    "collapsed": false
   },
   "outputs": [
    {
     "data": {
      "text/plain": [
       "0.8340576562281805"
      ]
     },
     "execution_count": 117,
     "metadata": {},
     "output_type": "execute_result"
    }
   ],
   "source": [
    "correlation(x,y)"
   ]
  },
  {
   "cell_type": "markdown",
   "metadata": {},
   "source": [
    "### Correlation and Causation\n",
    "- You have probably heard at some point that “correlation is not causation,” most likely by someone looking at data that posed a challenge to parts of his worldview that he was reluctant to question. Nonetheless, this is an important point — if x and y are strongly correlated, that might mean that x causes y, that y causes x, that each causes the other, that some third factor causes both, or it might mean nothing.\n",
    "\n",
    "- One way to feel more confident about causality is by conducting randomized trials. If you can randomly split your users into two groups with similar demographics and give one of the groups a slightly different experience, then you can often feel pretty good that the different experiences are causing the different outcomes.\n"
   ]
  }
 ],
 "metadata": {
  "kernelspec": {
   "display_name": "Python 3",
   "language": "python",
   "name": "python3"
  },
  "language_info": {
   "codemirror_mode": {
    "name": "ipython",
    "version": 3
   },
   "file_extension": ".py",
   "mimetype": "text/x-python",
   "name": "python",
   "nbconvert_exporter": "python",
   "pygments_lexer": "ipython3",
   "version": "3.5.1"
  }
 },
 "nbformat": 4,
 "nbformat_minor": 0
}
